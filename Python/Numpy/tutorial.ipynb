{
 "cells": [
  {
   "cell_type": "code",
   "execution_count": null,
   "metadata": {},
   "outputs": [],
   "source": [
    "#==== Create Array ====\n",
    "\n",
    "import numpy as np\n",
    "d_0 = 42\n",
    "d_1 = [1,2,3,4]\n",
    "d_2 = [[1,2,3],[4,5,6]]\n",
    "d_3 = [[[1,2],[3,4]],[[5,6],[7,8]]]\n",
    "arr = np.array(d_1)\n",
    "print(arr[1])"
   ]
  },
  {
   "cell_type": "code",
   "execution_count": null,
   "metadata": {},
   "outputs": [],
   "source": [
    "#==== Shape & Reshape ====\n",
    "\n",
    "import numpy as np\n",
    "d_1 = [1,2,3,4]\n",
    "d_2 = [[1,2,3],[4,5,6]]\n",
    "d_3 = [[[1,2],[3,4]],[[5,6],[7,8]]]\n",
    "arr = np.array(d_3)\n",
    "print(arr.shape)\n",
    "print(arr.reshape(1,2,4))"
   ]
  },
  {
   "cell_type": "code",
   "execution_count": null,
   "metadata": {},
   "outputs": [],
   "source": [
    "#==== Copy & View ====\n",
    "\n",
    "import numpy as np\n",
    "arr = np.array([1,2,3,4])\n",
    "copy_arr = arr.copy()\n",
    "view_arr = arr.view()\n",
    "view_arr[0] = 5\n",
    "print(arr)\n",
    "print(view_arr)"
   ]
  },
  {
   "cell_type": "code",
   "execution_count": null,
   "metadata": {},
   "outputs": [],
   "source": [
    "#==== Iterating ====\n",
    "\n",
    "import numpy as np\n",
    "d_1 = [1,2,3,4]\n",
    "d_2 = [[1,2,3],[4,5,6]]\n",
    "d_3 = [[[1,2],[3,4]],[[5,6],[7,8]]]\n",
    "arr = np.array(d_3)\n",
    "for i in arr:\n",
    "    for j in i:\n",
    "        for k in j:\n",
    "            print(k,end=' ')\n",
    "print('')\n",
    "for i in np.nditer(arr):\n",
    "    print(i,end=' ')\n",
    "print('')\n",
    "for idx,x in np.ndenumerate(arr):\n",
    "    print(idx,x)"
   ]
  },
  {
   "cell_type": "code",
   "execution_count": null,
   "metadata": {},
   "outputs": [],
   "source": [
    "#==== Join Array ====\n",
    "\n",
    "import numpy as np\n",
    "d_1 = [1,2,3,4]\n",
    "d_2 = [5,6,7,8]\n",
    "\n",
    "d_3 = [[1,2],[3,4]]\n",
    "d_4 = [[5,6],[7,8]]\n",
    "arr = np.concatenate((d_3,d_4),axis=1)\n",
    "print(arr)\n",
    "\n",
    "arr_1 = np.array(d_1)\n",
    "arr_2 = np.array(d_2)\n",
    "arr1 = np.stack((arr_1,arr_2),axis=1)\n",
    "print(arr1)\n"
   ]
  },
  {
   "cell_type": "code",
   "execution_count": null,
   "metadata": {},
   "outputs": [],
   "source": [
    "#==== Split Array ====\n",
    "\n",
    "d_1 = [1,2,3,4,5,6,7,8]\n",
    "d_2 = [[1,2],[3,4],[5,6],[7,8]]\n",
    "arr = np.array(d_2)\n",
    "new_arr = np.array_split(arr,2)\n",
    "new_arr_1 = np.hsplit(arr,2)\n",
    "print(new_arr)\n",
    "print(new_arr_1)"
   ]
  },
  {
   "cell_type": "code",
   "execution_count": null,
   "metadata": {},
   "outputs": [],
   "source": [
    "#==== Search array ====\n",
    "import numpy as np\n",
    "\n",
    "d_1 = [6,7,8,9]\n",
    "arr = np.array(d_1)\n",
    "x = np.where(arr == 6)\n",
    "y = np.searchsorted(arr,[6,7,9],side='left')\n",
    "print(x)\n",
    "print(y)"
   ]
  },
  {
   "cell_type": "code",
   "execution_count": null,
   "metadata": {},
   "outputs": [],
   "source": [
    "#==== Sort Array ====\n",
    "\n",
    "import numpy as np\n",
    "\n",
    "d_1 = [3,4,6,2,1,0]\n",
    "d_2 = [[6,5,4],[3,2,1]]\n",
    "arr = np.array(d_2)\n",
    "\n",
    "print(np.sort(arr))"
   ]
  },
  {
   "cell_type": "code",
   "execution_count": null,
   "metadata": {},
   "outputs": [],
   "source": [
    "#==== Filter ====\n",
    "\n",
    "import numpy as np\n",
    "\n",
    "arr = np.array([1,2,3,4])\n",
    "x = []\n",
    "\n",
    "for i in arr:\n",
    "    if i % 2 == 0:\n",
    "        x.append(True)\n",
    "    else: \n",
    "        x.append(False)\n",
    "new = arr[x]\n",
    "print(new)\n"
   ]
  }
 ],
 "metadata": {
  "interpreter": {
   "hash": "dcacb0086e9a4f4eabd41c33bf4faac5ea0a3337ed3f5eff0680afa930572c04"
  },
  "kernelspec": {
   "display_name": "Python 3.9.6 64-bit",
   "language": "python",
   "name": "python3"
  },
  "language_info": {
   "codemirror_mode": {
    "name": "ipython",
    "version": 3
   },
   "file_extension": ".py",
   "mimetype": "text/x-python",
   "name": "python",
   "nbconvert_exporter": "python",
   "pygments_lexer": "ipython3",
   "version": "3.9.6"
  },
  "orig_nbformat": 4
 },
 "nbformat": 4,
 "nbformat_minor": 2
}
