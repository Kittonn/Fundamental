{
 "cells": [
  {
   "cell_type": "code",
   "execution_count": null,
   "metadata": {},
   "outputs": [],
   "source": [
    "import matplotlib.pyplot as plt\n",
    "import numpy as np\n",
    "\n",
    "x = np.array([0,2])\n",
    "y = np.array([510,0])\n",
    "\n",
    "plt.plot(x,y,\"o\")\n",
    "plt.show()\n"
   ]
  },
  {
   "cell_type": "code",
   "execution_count": null,
   "metadata": {},
   "outputs": [],
   "source": [
    "import matplotlib.pyplot as plt\n",
    "import numpy as np\n",
    "\n",
    "x = np.array([1,5,8,9])\n",
    "y = np.array([3,5,9,12])\n",
    "\n",
    "# marker|line|color\n",
    "# ms => marker size, mec => markeredgecolor\n",
    "# mfc => markerfacecolor\n",
    "\n",
    "plt.title(\"Test Graph\",loc=\"left\")\n",
    "plt.xlabel(\"X Label\")\n",
    "plt.ylabel(\"Y Label\")\n",
    "\n",
    "plt.plot(x,y,\"*-.g\",ms=10,mec=\"y\",mfc=\"r\")\n",
    "\n",
    "#plt.grid(axis=\"y\")\n",
    "plt.grid(c='r',ls='-.',lw=1)\n",
    "plt.show()"
   ]
  },
  {
   "cell_type": "code",
   "execution_count": null,
   "metadata": {},
   "outputs": [],
   "source": [
    "import matplotlib.pyplot as plt\n",
    "import numpy as np\n",
    "\n",
    "x = np.array([1,5,8,9])\n",
    "plt.subplot(1,2,1)\n",
    "plt.plot(x,ls=\":\",c='r',lw=3)\n",
    "\n",
    "plt.title(\"L\")\n",
    "\n",
    "y = np.array([3,5,9,12])\n",
    "plt.subplot(1,2,2)\n",
    "plt.plot(y,ls=\":\",c='g',lw=3)\n",
    "\n",
    "plt.title(\"R\")\n",
    "\n",
    "plt.suptitle(\"Title\")\n",
    "plt.show()\n"
   ]
  },
  {
   "cell_type": "code",
   "execution_count": null,
   "metadata": {},
   "outputs": [],
   "source": [
    "import matplotlib.pyplot as plt\n",
    "import numpy as np\n",
    "\n",
    "colors = np.arange(0,110,10)\n",
    "x = np.random.randint(100,size=10)\n",
    "y = np.random.randint(100,size=10)\n",
    "\n",
    "plt.scatter(x,y)\n",
    "x1 = np.random.randint(100,size=10)\n",
    "y1 = np.random.randint(100,size=10)\n",
    "#plt.scatter(x1,y1,c=colors, cmap='viridis')\n",
    "plt.show()\n",
    "print(colors)\n"
   ]
  }
 ],
 "metadata": {
  "interpreter": {
   "hash": "dcacb0086e9a4f4eabd41c33bf4faac5ea0a3337ed3f5eff0680afa930572c04"
  },
  "kernelspec": {
   "display_name": "Python 3.9.6 64-bit",
   "language": "python",
   "name": "python3"
  },
  "language_info": {
   "codemirror_mode": {
    "name": "ipython",
    "version": 3
   },
   "file_extension": ".py",
   "mimetype": "text/x-python",
   "name": "python",
   "nbconvert_exporter": "python",
   "pygments_lexer": "ipython3",
   "version": "3.9.6"
  },
  "orig_nbformat": 4
 },
 "nbformat": 4,
 "nbformat_minor": 2
}
