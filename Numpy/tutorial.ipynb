{
 "cells": [
  {
   "cell_type": "code",
   "execution_count": 4,
   "metadata": {},
   "outputs": [
    {
     "name": "stdout",
     "output_type": "stream",
     "text": [
      "2\n"
     ]
    }
   ],
   "source": [
    "#==== Create Array ====\n",
    "\n",
    "import numpy as np\n",
    "d_0 = 42\n",
    "d_1 = [1,2,3,4]\n",
    "d_2 = [[1,2,3],[4,5,6]]\n",
    "d_3 = [[[1,2],[3,4]],[[5,6],[7,8]]]\n",
    "arr = np.array(d_1)\n",
    "print(arr[1])"
   ]
  },
  {
   "cell_type": "code",
   "execution_count": 27,
   "metadata": {},
   "outputs": [
    {
     "name": "stdout",
     "output_type": "stream",
     "text": [
      "(2, 2, 2)\n",
      "[[[1 2 3 4]\n",
      "  [5 6 7 8]]]\n"
     ]
    }
   ],
   "source": [
    "#==== Shape & Reshape ====\n",
    "\n",
    "import numpy as np\n",
    "d_1 = [1,2,3,4]\n",
    "d_2 = [[1,2,3],[4,5,6]]\n",
    "d_3 = [[[1,2],[3,4]],[[5,6],[7,8]]]\n",
    "arr = np.array(d_3)\n",
    "print(arr.shape)\n",
    "print(arr.reshape(1,2,4))"
   ]
  },
  {
   "cell_type": "code",
   "execution_count": 5,
   "metadata": {},
   "outputs": [
    {
     "name": "stdout",
     "output_type": "stream",
     "text": [
      "[5 2 3 4]\n",
      "[5 2 3 4]\n"
     ]
    }
   ],
   "source": [
    "#==== Copy & View ====\n",
    "\n",
    "import numpy as np\n",
    "arr = np.array([1,2,3,4])\n",
    "copy_arr = arr.copy()\n",
    "view_arr = arr.view()\n",
    "view_arr[0] = 5\n",
    "print(arr)\n",
    "print(view_arr)"
   ]
  },
  {
   "cell_type": "code",
   "execution_count": 28,
   "metadata": {},
   "outputs": [
    {
     "name": "stdout",
     "output_type": "stream",
     "text": [
      "1 2 3 4 5 6 7 8 \n",
      "1 2 3 4 5 6 7 8 \n",
      "(0, 0, 0) 1\n",
      "(0, 0, 1) 2\n",
      "(0, 1, 0) 3\n",
      "(0, 1, 1) 4\n",
      "(1, 0, 0) 5\n",
      "(1, 0, 1) 6\n",
      "(1, 1, 0) 7\n",
      "(1, 1, 1) 8\n"
     ]
    }
   ],
   "source": [
    "#==== Iterating ====\n",
    "\n",
    "import numpy as np\n",
    "d_1 = [1,2,3,4]\n",
    "d_2 = [[1,2,3],[4,5,6]]\n",
    "d_3 = [[[1,2],[3,4]],[[5,6],[7,8]]]\n",
    "arr = np.array(d_3)\n",
    "for i in arr:\n",
    "    for j in i:\n",
    "        for k in j:\n",
    "            print(k,end=' ')\n",
    "print('')\n",
    "for i in np.nditer(arr):\n",
    "    print(i,end=' ')\n",
    "print('')\n",
    "for idx,x in np.ndenumerate(arr):\n",
    "    print(idx,x)"
   ]
  }
 ],
 "metadata": {
  "interpreter": {
   "hash": "dcacb0086e9a4f4eabd41c33bf4faac5ea0a3337ed3f5eff0680afa930572c04"
  },
  "kernelspec": {
   "display_name": "Python 3.9.6 64-bit",
   "language": "python",
   "name": "python3"
  },
  "language_info": {
   "codemirror_mode": {
    "name": "ipython",
    "version": 3
   },
   "file_extension": ".py",
   "mimetype": "text/x-python",
   "name": "python",
   "nbconvert_exporter": "python",
   "pygments_lexer": "ipython3",
   "version": "3.9.6"
  },
  "orig_nbformat": 4
 },
 "nbformat": 4,
 "nbformat_minor": 2
}
